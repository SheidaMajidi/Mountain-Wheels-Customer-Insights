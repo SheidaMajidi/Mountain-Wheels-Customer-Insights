{
 "cells": [
  {
   "cell_type": "markdown",
   "metadata": {},
   "source": [
    "# Mountain Wheel Superstore Analysis\n",
    "#### Visualization-focused analysis\n",
    "##### Sheida"
   ]
  },
  {
   "cell_type": "code",
   "execution_count": 1,
   "metadata": {},
   "outputs": [],
   "source": [
    "import pandas as pd\n",
    "import seaborn as sns\n",
    "import matplotlib.pyplot as plt"
   ]
  },
  {
   "cell_type": "code",
   "execution_count": 5,
   "metadata": {},
   "outputs": [],
   "source": [
    "\n",
    "# Reading the datasets\n",
    "sales = '/Users/sheidamajidi/Desktop/Winter2024/COURSES/INSY695-PowerBi/Assignments/Assignment2/Mountain-Wheels-Customer-Insights/Datasets/Sales.csv'\n",
    "customers = '/Users/sheidamajidi/Desktop/Winter2024/COURSES/INSY695-PowerBi/Assignments/Assignment2/Mountain-Wheels-Customer-Insights/Datasets/Customers.csv'\n",
    "products = '/Users/sheidamajidi/Desktop/Winter2024/COURSES/INSY695-PowerBi/Assignments/Assignment2/Mountain-Wheels-Customer-Insights/Datasets/Products.csv'\n",
    "product_categories = '/Users/sheidamajidi/Desktop/Winter2024/COURSES/INSY695-PowerBi/Assignments/Assignment2/Mountain-Wheels-Customer-Insights/Datasets/Product-Categories.csv'\n",
    "product_subcategories = '/Users/sheidamajidi/Desktop/Winter2024/COURSES/INSY695-PowerBi/Assignments/Assignment2/Mountain-Wheels-Customer-Insights/Datasets/Product-Subcategories.csv'\n",
    "returns = '/Users/sheidamajidi/Desktop/Winter2024/COURSES/INSY695-PowerBi/Assignments/Assignment2/Mountain-Wheels-Customer-Insights/Datasets/Returns.csv'\n",
    "retun_with_comments = '/Users/sheidamajidi/Desktop/Winter2024/COURSES/INSY695-PowerBi/Assignments/Assignment2/Mountain-Wheels-Customer-Insights/Datasets/Returns with Comments.csv'\n",
    "territories = '/Users/sheidamajidi/Desktop/Winter2024/COURSES/INSY695-PowerBi/Assignments/Assignment2/Mountain-Wheels-Customer-Insights/Datasets/Territories.csv'\n",
    "calendar = '/Users/sheidamajidi/Desktop/Winter2024/COURSES/INSY695-PowerBi/Assignments/Assignment2/Mountain-Wheels-Customer-Insights/Datasets/Calendar.csv'"
   ]
  },
  {
   "cell_type": "code",
   "execution_count": 7,
   "metadata": {},
   "outputs": [],
   "source": [
    "# Load datasets\n",
    "sales_df = pd.read_csv(sales)\n",
    "customers_df = pd.read_csv(customers)\n",
    "products_df = pd.read_csv(products)\n",
    "product_categories_df = pd.read_csv(product_categories)\n",
    "product_subcategories_df = pd.read_csv(product_subcategories)\n",
    "returns_df = pd.read_csv(returns)\n",
    "return_with_comments_df = pd.read_csv(retun_with_comments)\n",
    "territories_df = pd.read_csv(territories)\n",
    "calendar_df = pd.read_csv(calendar)\n"
   ]
  },
  {
   "cell_type": "markdown",
   "metadata": {},
   "source": [
    "### Data cleaning"
   ]
  },
  {
   "cell_type": "code",
   "execution_count": 12,
   "metadata": {},
   "outputs": [
    {
     "name": "stdout",
     "output_type": "stream",
     "text": [
      "OrderDate        0\n",
      "StockDate        0\n",
      "OrderNumber      0\n",
      "ProductKey       0\n",
      "CustomerKey      0\n",
      "TerritoryKey     0\n",
      "OrderLineItem    0\n",
      "OrderQuantity    0\n",
      "dtype: int64\n",
      "CustomerKey           0\n",
      "Prefix              130\n",
      "FirstName             0\n",
      "LastName              0\n",
      "BirthDate             0\n",
      "Unnamed: 5        18148\n",
      "MaritalStatus         0\n",
      "Gender              130\n",
      "EmailAddress          0\n",
      "AnnualIncome          0\n",
      "TotalChildren         0\n",
      "EducationLevel        0\n",
      "Occupation            0\n",
      "HomeOwner             0\n",
      "dtype: int64\n",
      "ProductKey                0\n",
      "ProductSubcategoryKey     0\n",
      "ProductSKU                0\n",
      "ProductName               0\n",
      "ModelName                 0\n",
      "ProductDescription        0\n",
      "ProductColor             50\n",
      "ProductSize               0\n",
      "ProductStyle              0\n",
      "ProductCost               0\n",
      "ProductPrice              0\n",
      "dtype: int64\n",
      "ProductCategoryKey    0\n",
      "CategoryName          0\n",
      "dtype: int64\n",
      "ProductSubcategoryKey    0\n",
      "SubcategoryName          0\n",
      "ProductCategoryKey       0\n",
      "dtype: int64\n",
      "ReturnDate        0\n",
      "TerritoryKey      0\n",
      "ProductKey        0\n",
      "ReturnQuantity    0\n",
      "dtype: int64\n",
      "ReturnDate           0\n",
      "TerritoryKey         0\n",
      "ProductKey           0\n",
      "ReturnQuantity       0\n",
      "Reason for Return    0\n",
      "Reason Comment       0\n",
      "dtype: int64\n",
      "SalesTerritoryKey    0\n",
      "Region               0\n",
      "Country              0\n",
      "Continent            0\n",
      "dtype: int64\n",
      "Date    0\n",
      "dtype: int64\n"
     ]
    }
   ],
   "source": [
    "# show all the columns\n",
    "pd.set_option('display.max_columns', None)\n",
    "\n",
    "# Check for missing values in all datasets\n",
    "for df in [sales_df, customers_df, products_df, product_categories_df, product_subcategories_df, \n",
    "           returns_df, return_with_comments_df, territories_df, calendar_df]:\n",
    "    print(df.isnull().sum())"
   ]
  }
 ],
 "metadata": {
  "kernelspec": {
   "display_name": "Python 3",
   "language": "python",
   "name": "python3"
  },
  "language_info": {
   "codemirror_mode": {
    "name": "ipython",
    "version": 3
   },
   "file_extension": ".py",
   "mimetype": "text/x-python",
   "name": "python",
   "nbconvert_exporter": "python",
   "pygments_lexer": "ipython3",
   "version": "3.11.5"
  }
 },
 "nbformat": 4,
 "nbformat_minor": 2
}
